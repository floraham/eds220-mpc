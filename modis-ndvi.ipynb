{
 "cells": [
  {
   "cell_type": "code",
   "execution_count": null,
   "id": "a5c92f7a-ec83-4230-a8a5-795490f4060d",
   "metadata": {},
   "outputs": [],
   "source": [
    "import numpy as np \n",
    "import geopandas as gpd\n",
    "import rioxarray as rioxr \n",
    "import matplotlib.pyplot as plt \n",
    "\n",
    "from shapely.geometry import Polygon \n",
    "\n",
    "\n",
    "#used to access STAC catalogs# \n",
    "from pystac_client import Client \n",
    "\n",
    "#used to sign items from the MPC STAC catalog \n",
    "import planetary_computer\n",
    "\n",
    "from IPython.display import Image "
   ]
  },
  {
   "cell_type": "code",
   "execution_count": null,
   "id": "c2facdf6-a188-467a-82c8-60b6cf87c446",
   "metadata": {},
   "outputs": [],
   "source": [
    "# access catalog \n",
    "catalog = Client.open(\n",
    "    \"https://planetarycomputer.microsoft.com/api/stac/v1\",\n",
    "    modifier = planetary_computer.sign_inplace)"
   ]
  },
  {
   "cell_type": "code",
   "execution_count": null,
   "id": "0ad0b178-53e2-4775-8bd5-25b342f1cc34",
   "metadata": {},
   "outputs": [],
   "source": []
  },
  {
   "cell_type": "code",
   "execution_count": null,
   "id": "2b795f95-3cfe-420d-969b-6645a47c8333",
   "metadata": {},
   "outputs": [],
   "source": []
  },
  {
   "cell_type": "code",
   "execution_count": null,
   "id": "6df2f82f-0f22-4cba-8e84-78af86fe851d",
   "metadata": {},
   "outputs": [],
   "source": []
  },
  {
   "cell_type": "code",
   "execution_count": null,
   "id": "d4bbafa1-2947-46da-a8b1-bca38c427912",
   "metadata": {},
   "outputs": [],
   "source": []
  },
  {
   "cell_type": "code",
   "execution_count": null,
   "id": "fe52d125-8a66-4b49-aff8-5ea24a7d01bc",
   "metadata": {},
   "outputs": [],
   "source": []
  }
 ],
 "metadata": {
  "kernelspec": {
   "display_name": "Python 3 (ipykernel)",
   "language": "python",
   "name": "python3"
  },
  "language_info": {
   "codemirror_mode": {
    "name": "ipython",
    "version": 3
   },
   "file_extension": ".py",
   "mimetype": "text/x-python",
   "name": "python",
   "nbconvert_exporter": "python",
   "pygments_lexer": "ipython3",
   "version": "3.11.4"
  }
 },
 "nbformat": 4,
 "nbformat_minor": 5
}
